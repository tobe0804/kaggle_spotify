{
 "cells": [
  {
   "cell_type": "code",
   "execution_count": 15,
   "id": "4997c964",
   "metadata": {},
   "outputs": [],
   "source": [
    "import kagglehub\n",
    "import os\n",
    "import pandas as pd\n",
    "import numpy as np\n",
    "import pycountry\n",
    "import plotly.graph_objects as go\n",
    "from plotly.subplots import make_subplots"
   ]
  },
  {
   "cell_type": "code",
   "execution_count": 3,
   "id": "96e3f976",
   "metadata": {},
   "outputs": [
    {
     "name": "stdout",
     "output_type": "stream",
     "text": [
      "['universal_top_spotify_songs.csv']\n",
      "               spotify_id                name                artists  \\\n",
      "0  2RkZ5LkEzeHGRsmDqKwmaJ            Ordinary            Alex Warren   \n",
      "1  42UBPzRMh5yyz0EDPr6fr1            Manchild      Sabrina Carpenter   \n",
      "2  0FTmksd2dxiE5e3rWyJXs6     back to friends                  sombr   \n",
      "3  7so0lgd0zP2Sbgs2d7a1SZ    Die With A Smile  Lady Gaga, Bruno Mars   \n",
      "4  6dOtVTDdiauQNBQEDOtlAB  BIRDS OF A FEATHER          Billie Eilish   \n",
      "\n",
      "   daily_rank  daily_movement  weekly_movement country snapshot_date  \\\n",
      "0           1               1                0            2025-06-11   \n",
      "1           2              -1               48            2025-06-11   \n",
      "2           3               0                1            2025-06-11   \n",
      "3           4               0               -1            2025-06-11   \n",
      "4           5               1                0            2025-06-11   \n",
      "\n",
      "   popularity  is_explicit  ...  key loudness mode  speechiness  acousticness  \\\n",
      "0          95        False  ...    2   -6.141    1       0.0600      0.704000   \n",
      "1          89         True  ...    7   -5.087    1       0.0572      0.122000   \n",
      "2          98        False  ...    1   -2.291    1       0.0301      0.000094   \n",
      "3          91        False  ...    6   -7.727    0       0.0317      0.289000   \n",
      "4         100        False  ...    2  -10.171    1       0.0358      0.200000   \n",
      "\n",
      "   instrumentalness  liveness  valence    tempo  time_signature  \n",
      "0          0.000007    0.0550    0.391  168.115               3  \n",
      "1          0.000000    0.3170    0.811  123.010               4  \n",
      "2          0.000088    0.0929    0.235   92.855               4  \n",
      "3          0.000000    0.1260    0.498  157.964               3  \n",
      "4          0.060800    0.1170    0.438  104.978               4  \n",
      "\n",
      "[5 rows x 25 columns]\n"
     ]
    }
   ],
   "source": [
    "path = kagglehub.dataset_download(\"asaniczka/top-spotify-songs-in-73-countries-daily-updated\") # download dataset and save temporary folder on local PC\n",
    "#print(path)\n",
    "print(os.listdir(path)) # list all files from path\n",
    "if \"universal_top_spotify_songs.csv\" in os.listdir(path):\n",
    "    df = pd.read_csv(f'{path}\\\\universal_top_spotify_songs.csv')\n",
    "    df = df.fillna('')\n",
    "else:\n",
    "    print(f\"universal_top_spotify_songs.csv not found in {path}. I found {os.listdir(path)}\")\n",
    "\n",
    "print(df.head()) # preview the first few rows   \n"
   ]
  },
  {
   "cell_type": "code",
   "execution_count": 4,
   "id": "bdbd9cce",
   "metadata": {},
   "outputs": [
    {
     "name": "stdout",
     "output_type": "stream",
     "text": [
      "Name: spotify_id, type: <class 'str'>\n",
      "Name: name, type: <class 'str'>\n",
      "Name: artists, type: <class 'str'>\n",
      "Name: daily_rank, type: <class 'str'>\n",
      "Name: daily_movement, type: <class 'str'>\n",
      "Name: weekly_movement, type: <class 'str'>\n",
      "Name: country, type: <class 'str'>\n",
      "Name: snapshot_date, type: <class 'str'>\n",
      "Name: popularity, type: <class 'str'>\n",
      "Name: is_explicit, type: <class 'str'>\n",
      "Name: duration_ms, type: <class 'str'>\n",
      "Name: album_name, type: <class 'str'>\n",
      "Name: album_release_date, type: <class 'str'>\n",
      "Name: danceability, type: <class 'str'>\n",
      "Name: energy, type: <class 'str'>\n",
      "Name: key, type: <class 'str'>\n",
      "Name: loudness, type: <class 'str'>\n",
      "Name: mode, type: <class 'str'>\n",
      "Name: speechiness, type: <class 'str'>\n",
      "Name: acousticness, type: <class 'str'>\n",
      "Name: instrumentalness, type: <class 'str'>\n",
      "Name: liveness, type: <class 'str'>\n",
      "Name: valence, type: <class 'str'>\n",
      "Name: tempo, type: <class 'str'>\n",
      "Name: time_signature, type: <class 'str'>\n"
     ]
    }
   ],
   "source": [
    "headers = list(df.columns.values) # list of headers\n",
    "\n",
    "# START check type of specific column\n",
    "for head in headers:\n",
    "    print(f'Name: {head}, type: {type(head)}')\n",
    "# END check type of specific column"
   ]
  },
  {
   "cell_type": "code",
   "execution_count": 5,
   "id": "9de1dc5d",
   "metadata": {},
   "outputs": [
    {
     "name": "stdout",
     "output_type": "stream",
     "text": [
      "spotify_id             object\n",
      "name                   object\n",
      "artists                object\n",
      "daily_rank              int64\n",
      "daily_movement          int64\n",
      "weekly_movement         int64\n",
      "country                object\n",
      "snapshot_date          object\n",
      "popularity              int64\n",
      "is_explicit              bool\n",
      "duration_ms             int64\n",
      "album_name             object\n",
      "album_release_date     object\n",
      "danceability          float64\n",
      "energy                float64\n",
      "key                     int64\n",
      "loudness              float64\n",
      "mode                    int64\n",
      "speechiness           float64\n",
      "acousticness          float64\n",
      "instrumentalness      float64\n",
      "liveness              float64\n",
      "valence               float64\n",
      "tempo                 float64\n",
      "time_signature          int64\n",
      "dtype: object\n"
     ]
    }
   ],
   "source": [
    "#START check values type\n",
    "print(df.dtypes)\n",
    "#END check values type\n"
   ]
  },
  {
   "cell_type": "code",
   "execution_count": 6,
   "id": "03ec67cb",
   "metadata": {},
   "outputs": [
    {
     "data": {
      "text/plain": [
       "spotify_id            0\n",
       "name                  0\n",
       "artists               0\n",
       "daily_rank            0\n",
       "daily_movement        0\n",
       "weekly_movement       0\n",
       "country               0\n",
       "snapshot_date         0\n",
       "popularity            0\n",
       "is_explicit           0\n",
       "duration_ms           0\n",
       "album_name            0\n",
       "album_release_date    0\n",
       "danceability          0\n",
       "energy                0\n",
       "key                   0\n",
       "loudness              0\n",
       "mode                  0\n",
       "speechiness           0\n",
       "acousticness          0\n",
       "instrumentalness      0\n",
       "liveness              0\n",
       "valence               0\n",
       "tempo                 0\n",
       "time_signature        0\n",
       "dtype: int64"
      ]
     },
     "execution_count": 6,
     "metadata": {},
     "output_type": "execute_result"
    }
   ],
   "source": [
    "df.isnull().sum() # sum null values from columns"
   ]
  },
  {
   "cell_type": "code",
   "execution_count": 7,
   "id": "81b855b9",
   "metadata": {},
   "outputs": [
    {
     "name": "stdout",
     "output_type": "stream",
     "text": [
      "0\n"
     ]
    }
   ],
   "source": [
    "duplicated_rows = df.duplicated().sum() # check duplicated rows\n",
    "print(duplicated_rows)"
   ]
  },
  {
   "cell_type": "code",
   "execution_count": 8,
   "id": "0dfb70bd",
   "metadata": {},
   "outputs": [
    {
     "name": "stdout",
     "output_type": "stream",
     "text": [
      "[['2024-09-26']\n",
      " ['2025-06-05']\n",
      " ['2024-12-27']\n",
      " ...\n",
      " ['2023-10-13']\n",
      " ['2023-09-20']\n",
      " ['2019-08-23']]\n"
     ]
    }
   ],
   "source": [
    "\"\"\" Empty country's ISO code is GLOBAL TOP 50 \"\"\"\n",
    "\n",
    "mask = df['country'].isna() | (df['country'] == \"\")\n",
    "\n",
    "if not df[mask].empty:\n",
    "    #print(df.loc[mask, ['daily_rank', 'name', 'artists', 'album_release_date']])\n",
    "    dates = df.loc[mask, ['album_release_date']]\n",
    "    print(dates.values)"
   ]
  },
  {
   "cell_type": "code",
   "execution_count": 9,
   "id": "f37e0e0b",
   "metadata": {},
   "outputs": [],
   "source": [
    "\"\"\" convert iso code to country name \"\"\"\n",
    "\n",
    "def iso_to_name(iso):\n",
    "    try:\n",
    "        country = pycountry.countries.get(alpha_2=iso)\n",
    "        return country.name if country else None\n",
    "    except KeyError:\n",
    "        return None"
   ]
  },
  {
   "cell_type": "code",
   "execution_count": 10,
   "id": "f1bccf28",
   "metadata": {},
   "outputs": [
    {
     "name": "stdout",
     "output_type": "stream",
     "text": [
      "{'ZA': 'South Africa', 'VN': 'Viet Nam', 'VE': 'Venezuela, Bolivarian Republic of', 'UY': 'Uruguay', 'US': 'United States', 'UA': 'Ukraine', 'TW': 'Taiwan, Province of China', 'TR': 'Türkiye', 'TH': 'Thailand', 'SV': 'El Salvador', 'SK': 'Slovakia', 'SG': 'Singapore', 'SE': 'Sweden', 'SA': 'Saudi Arabia', 'RO': 'Romania', 'PY': 'Paraguay', 'PT': 'Portugal', 'PL': 'Poland', 'PK': 'Pakistan', 'PH': 'Philippines', 'PE': 'Peru', 'PA': 'Panama', 'NZ': 'New Zealand', 'NO': 'Norway', 'NL': 'Netherlands', 'NI': 'Nicaragua', 'NG': 'Nigeria', 'MY': 'Malaysia', 'MX': 'Mexico', 'MA': 'Morocco', 'LV': 'Latvia', 'LU': 'Luxembourg', 'LT': 'Lithuania', 'KZ': 'Kazakhstan', 'KR': 'Korea, Republic of', 'JP': 'Japan', 'IT': 'Italy', 'IS': 'Iceland', 'IN': 'India', 'IL': 'Israel', 'IE': 'Ireland', 'ID': 'Indonesia', 'HU': 'Hungary', 'HN': 'Honduras', 'HK': 'Hong Kong', 'GT': 'Guatemala', 'GR': 'Greece', 'FR': 'France', 'FI': 'Finland', 'ES': 'Spain', 'EG': 'Egypt', 'EE': 'Estonia', 'EC': 'Ecuador', 'DO': 'Dominican Republic', 'DK': 'Denmark', 'DE': 'Germany', 'CZ': 'Czechia', 'CR': 'Costa Rica', 'CO': 'Colombia', 'CL': 'Chile', 'CH': 'Switzerland', 'CA': 'Canada', 'BY': 'Belarus', 'BR': 'Brazil', 'BO': 'Bolivia, Plurinational State of', 'BG': 'Bulgaria', 'BE': 'Belgium', 'AU': 'Australia', 'AT': 'Austria', 'AR': 'Argentina', 'AE': 'United Arab Emirates', 'GB': 'United Kingdom'}\n"
     ]
    }
   ],
   "source": [
    "reverted_mask = df[~(df['country'].isna() | (df['country'] == \"\"))].copy() # copy to avoid SettingWithCopyWarning\n",
    "\n",
    "reverted_mask['country_name'] = reverted_mask['country'].apply(iso_to_name) #convert iso to country name\n",
    "\n",
    "#print(reverted_mask[['country', 'country_name', 'name', 'artists']])\n",
    "unique_pairs = reverted_mask[['country', 'country_name']].drop_duplicates()\n",
    "countries = dict(zip(unique_pairs['country'], unique_pairs['country_name']))\n",
    "print(countries)"
   ]
  },
  {
   "cell_type": "code",
   "execution_count": 11,
   "id": "1a794ac5",
   "metadata": {},
   "outputs": [
    {
     "name": "stdout",
     "output_type": "stream",
     "text": [
      "name       BIRDS OF A FEATHER\n",
      "artists         Billie Eilish\n",
      "count                   16673\n",
      "Name: 1893, dtype: object\n"
     ]
    }
   ],
   "source": [
    "reverted_mask = df[~(df['country'].isna() | (df['country'] == \"\"))].copy()\n",
    "dict(zip(reverted_mask['name'], reverted_mask['artists']))\n",
    " \n",
    "counts = df.groupby(['name', 'artists']).size().reset_index(name='count') # count artists and songs \n",
    "#print(counts)\n",
    "\n",
    "max_row = counts.loc[counts['count'].idxmax()]\n",
    "\n",
    "print(max_row) # maximum number of occurrences"
   ]
  },
  {
   "cell_type": "code",
   "execution_count": null,
   "id": "d21b8699",
   "metadata": {},
   "outputs": [
    {
     "data": {
      "application/vnd.plotly.v1+json": {
       "config": {
        "plotlyServerURL": "https://plot.ly"
       },
       "data": [
        {
         "colorbar": {
          "title": {
           "text": "Jaccard"
          },
          "x": 0.46
         },
         "colorscale": [
          [
           0,
           "#440154"
          ],
          [
           0.1111111111111111,
           "#482878"
          ],
          [
           0.2222222222222222,
           "#3e4989"
          ],
          [
           0.3333333333333333,
           "#31688e"
          ],
          [
           0.4444444444444444,
           "#26828e"
          ],
          [
           0.5555555555555556,
           "#1f9e89"
          ],
          [
           0.6666666666666666,
           "#35b779"
          ],
          [
           0.7777777777777778,
           "#6ece58"
          ],
          [
           0.8888888888888888,
           "#b5de2b"
          ],
          [
           1,
           "#fde725"
          ]
         ],
         "type": "heatmap",
         "x": [
          "",
          "ZA",
          "VN",
          "VE",
          "UY",
          "US",
          "UA",
          "TW",
          "TR",
          "TH",
          "SV",
          "SK",
          "SG",
          "SE",
          "SA",
          "RO",
          "PY",
          "PT",
          "PL",
          "PK",
          "PH",
          "PE",
          "PA",
          "NZ",
          "NO",
          "NL",
          "NI",
          "NG",
          "MY",
          "MX",
          "MA",
          "LV",
          "LU",
          "LT",
          "KZ",
          "KR",
          "JP",
          "IT",
          "IS",
          "IN",
          "IL",
          "IE",
          "ID",
          "HU",
          "HN",
          "HK",
          "GT",
          "GR",
          "FR",
          "FI",
          "ES",
          "EG",
          "EE",
          "EC",
          "DO",
          "DK",
          "DE",
          "CZ",
          "CR",
          "CO",
          "CL",
          "CH",
          "CA",
          "BY",
          "BR",
          "BO",
          "BG",
          "BE",
          "AU",
          "AT",
          "AR",
          "AE"
         ],
         "xaxis": "x",
         "y": [
          "",
          "ZA",
          "VN",
          "VE",
          "UY",
          "US",
          "UA",
          "TW",
          "TR",
          "TH",
          "SV",
          "SK",
          "SG",
          "SE",
          "SA",
          "RO",
          "PY",
          "PT",
          "PL",
          "PK",
          "PH",
          "PE",
          "PA",
          "NZ",
          "NO",
          "NL",
          "NI",
          "NG",
          "MY",
          "MX",
          "MA",
          "LV",
          "LU",
          "LT",
          "KZ",
          "KR",
          "JP",
          "IT",
          "IS",
          "IN",
          "IL",
          "IE",
          "ID",
          "HU",
          "HN",
          "HK",
          "GT",
          "GR",
          "FR",
          "FI",
          "ES",
          "EG",
          "EE",
          "EC",
          "DO",
          "DK",
          "DE",
          "CZ",
          "CR",
          "CO",
          "CL",
          "CH",
          "CA",
          "BY",
          "BR",
          "BO",
          "BG",
          "BE",
          "AU",
          "AT",
          "AR",
          "AE"
         ],
         "yaxis": "y",
         "z": {
          "bdata": "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",
          "dtype": "f8",
          "shape": "72, 72"
         },
         "zmax": 1,
         "zmin": 0
        },
        {
         "colorscale": [
          [
           0,
           "#440154"
          ],
          [
           0.1111111111111111,
           "#482878"
          ],
          [
           0.2222222222222222,
           "#3e4989"
          ],
          [
           0.3333333333333333,
           "#31688e"
          ],
          [
           0.4444444444444444,
           "#26828e"
          ],
          [
           0.5555555555555556,
           "#1f9e89"
          ],
          [
           0.6666666666666666,
           "#35b779"
          ],
          [
           0.7777777777777778,
           "#6ece58"
          ],
          [
           0.8888888888888888,
           "#b5de2b"
          ],
          [
           1,
           "#fde725"
          ]
         ],
         "showscale": false,
         "type": "heatmap",
         "x": [
          "",
          "ZA",
          "VN",
          "VE",
          "UY",
          "US",
          "UA",
          "TW",
          "TR",
          "TH",
          "SV",
          "SK",
          "SG",
          "SE",
          "SA",
          "RO",
          "PY",
          "PT",
          "PL",
          "PK",
          "PH",
          "PE",
          "PA",
          "NZ",
          "NO",
          "NL",
          "NI",
          "NG",
          "MY",
          "MX",
          "MA",
          "LV",
          "LU",
          "LT",
          "KZ",
          "KR",
          "JP",
          "IT",
          "IS",
          "IN",
          "IL",
          "IE",
          "ID",
          "HU",
          "HN",
          "HK",
          "GT",
          "GR",
          "GB",
          "FR",
          "FI",
          "ES",
          "EG",
          "EE",
          "EC",
          "DO",
          "DK",
          "DE",
          "CZ",
          "CR",
          "CO",
          "CL",
          "CH",
          "CA",
          "BY",
          "BR",
          "BO",
          "BG",
          "BE",
          "AU",
          "AT",
          "AR",
          "AE"
         ],
         "xaxis": "x2",
         "y": [
          "",
          "ZA",
          "VN",
          "VE",
          "UY",
          "US",
          "UA",
          "TW",
          "TR",
          "TH",
          "SV",
          "SK",
          "SG",
          "SE",
          "SA",
          "RO",
          "PY",
          "PT",
          "PL",
          "PK",
          "PH",
          "PE",
          "PA",
          "NZ",
          "NO",
          "NL",
          "NI",
          "NG",
          "MY",
          "MX",
          "MA",
          "LV",
          "LU",
          "LT",
          "KZ",
          "KR",
          "JP",
          "IT",
          "IS",
          "IN",
          "IL",
          "IE",
          "ID",
          "HU",
          "HN",
          "HK",
          "GT",
          "GR",
          "GB",
          "FR",
          "FI",
          "ES",
          "EG",
          "EE",
          "EC",
          "DO",
          "DK",
          "DE",
          "CZ",
          "CR",
          "CO",
          "CL",
          "CH",
          "CA",
          "BY",
          "BR",
          "BO",
          "BG",
          "BE",
          "AU",
          "AT",
          "AR",
          "AE"
         ],
         "yaxis": "y2",
         "z": {
          "bdata": "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",
          "dtype": "f8",
          "shape": "73, 73"
         },
         "zmax": 1,
         "zmin": 0
        }
       ],
       "layout": {
        "annotations": [
         {
          "font": {
           "size": 16
          },
          "showarrow": false,
          "text": "Jaccard matrix for: 2025-06-11",
          "x": 0.225,
          "xanchor": "center",
          "xref": "paper",
          "y": 1,
          "yanchor": "bottom",
          "yref": "paper"
         },
         {
          "font": {
           "size": 16
          },
          "showarrow": false,
          "text": "Jaccard matrix for: 2023-10-18",
          "x": 0.775,
          "xanchor": "center",
          "xref": "paper",
          "y": 1,
          "yanchor": "bottom",
          "yref": "paper"
         }
        ],
        "height": 600,
        "template": {
         "data": {
          "bar": [
           {
            "error_x": {
             "color": "#2a3f5f"
            },
            "error_y": {
             "color": "#2a3f5f"
            },
            "marker": {
             "line": {
              "color": "#E5ECF6",
              "width": 0.5
             },
             "pattern": {
              "fillmode": "overlay",
              "size": 10,
              "solidity": 0.2
             }
            },
            "type": "bar"
           }
          ],
          "barpolar": [
           {
            "marker": {
             "line": {
              "color": "#E5ECF6",
              "width": 0.5
             },
             "pattern": {
              "fillmode": "overlay",
              "size": 10,
              "solidity": 0.2
             }
            },
            "type": "barpolar"
           }
          ],
          "carpet": [
           {
            "aaxis": {
             "endlinecolor": "#2a3f5f",
             "gridcolor": "white",
             "linecolor": "white",
             "minorgridcolor": "white",
             "startlinecolor": "#2a3f5f"
            },
            "baxis": {
             "endlinecolor": "#2a3f5f",
             "gridcolor": "white",
             "linecolor": "white",
             "minorgridcolor": "white",
             "startlinecolor": "#2a3f5f"
            },
            "type": "carpet"
           }
          ],
          "choropleth": [
           {
            "colorbar": {
             "outlinewidth": 0,
             "ticks": ""
            },
            "type": "choropleth"
           }
          ],
          "contour": [
           {
            "colorbar": {
             "outlinewidth": 0,
             "ticks": ""
            },
            "colorscale": [
             [
              0,
              "#0d0887"
             ],
             [
              0.1111111111111111,
              "#46039f"
             ],
             [
              0.2222222222222222,
              "#7201a8"
             ],
             [
              0.3333333333333333,
              "#9c179e"
             ],
             [
              0.4444444444444444,
              "#bd3786"
             ],
             [
              0.5555555555555556,
              "#d8576b"
             ],
             [
              0.6666666666666666,
              "#ed7953"
             ],
             [
              0.7777777777777778,
              "#fb9f3a"
             ],
             [
              0.8888888888888888,
              "#fdca26"
             ],
             [
              1,
              "#f0f921"
             ]
            ],
            "type": "contour"
           }
          ],
          "contourcarpet": [
           {
            "colorbar": {
             "outlinewidth": 0,
             "ticks": ""
            },
            "type": "contourcarpet"
           }
          ],
          "heatmap": [
           {
            "colorbar": {
             "outlinewidth": 0,
             "ticks": ""
            },
            "colorscale": [
             [
              0,
              "#0d0887"
             ],
             [
              0.1111111111111111,
              "#46039f"
             ],
             [
              0.2222222222222222,
              "#7201a8"
             ],
             [
              0.3333333333333333,
              "#9c179e"
             ],
             [
              0.4444444444444444,
              "#bd3786"
             ],
             [
              0.5555555555555556,
              "#d8576b"
             ],
             [
              0.6666666666666666,
              "#ed7953"
             ],
             [
              0.7777777777777778,
              "#fb9f3a"
             ],
             [
              0.8888888888888888,
              "#fdca26"
             ],
             [
              1,
              "#f0f921"
             ]
            ],
            "type": "heatmap"
           }
          ],
          "histogram": [
           {
            "marker": {
             "pattern": {
              "fillmode": "overlay",
              "size": 10,
              "solidity": 0.2
             }
            },
            "type": "histogram"
           }
          ],
          "histogram2d": [
           {
            "colorbar": {
             "outlinewidth": 0,
             "ticks": ""
            },
            "colorscale": [
             [
              0,
              "#0d0887"
             ],
             [
              0.1111111111111111,
              "#46039f"
             ],
             [
              0.2222222222222222,
              "#7201a8"
             ],
             [
              0.3333333333333333,
              "#9c179e"
             ],
             [
              0.4444444444444444,
              "#bd3786"
             ],
             [
              0.5555555555555556,
              "#d8576b"
             ],
             [
              0.6666666666666666,
              "#ed7953"
             ],
             [
              0.7777777777777778,
              "#fb9f3a"
             ],
             [
              0.8888888888888888,
              "#fdca26"
             ],
             [
              1,
              "#f0f921"
             ]
            ],
            "type": "histogram2d"
           }
          ],
          "histogram2dcontour": [
           {
            "colorbar": {
             "outlinewidth": 0,
             "ticks": ""
            },
            "colorscale": [
             [
              0,
              "#0d0887"
             ],
             [
              0.1111111111111111,
              "#46039f"
             ],
             [
              0.2222222222222222,
              "#7201a8"
             ],
             [
              0.3333333333333333,
              "#9c179e"
             ],
             [
              0.4444444444444444,
              "#bd3786"
             ],
             [
              0.5555555555555556,
              "#d8576b"
             ],
             [
              0.6666666666666666,
              "#ed7953"
             ],
             [
              0.7777777777777778,
              "#fb9f3a"
             ],
             [
              0.8888888888888888,
              "#fdca26"
             ],
             [
              1,
              "#f0f921"
             ]
            ],
            "type": "histogram2dcontour"
           }
          ],
          "mesh3d": [
           {
            "colorbar": {
             "outlinewidth": 0,
             "ticks": ""
            },
            "type": "mesh3d"
           }
          ],
          "parcoords": [
           {
            "line": {
             "colorbar": {
              "outlinewidth": 0,
              "ticks": ""
             }
            },
            "type": "parcoords"
           }
          ],
          "pie": [
           {
            "automargin": true,
            "type": "pie"
           }
          ],
          "scatter": [
           {
            "fillpattern": {
             "fillmode": "overlay",
             "size": 10,
             "solidity": 0.2
            },
            "type": "scatter"
           }
          ],
          "scatter3d": [
           {
            "line": {
             "colorbar": {
              "outlinewidth": 0,
              "ticks": ""
             }
            },
            "marker": {
             "colorbar": {
              "outlinewidth": 0,
              "ticks": ""
             }
            },
            "type": "scatter3d"
           }
          ],
          "scattercarpet": [
           {
            "marker": {
             "colorbar": {
              "outlinewidth": 0,
              "ticks": ""
             }
            },
            "type": "scattercarpet"
           }
          ],
          "scattergeo": [
           {
            "marker": {
             "colorbar": {
              "outlinewidth": 0,
              "ticks": ""
             }
            },
            "type": "scattergeo"
           }
          ],
          "scattergl": [
           {
            "marker": {
             "colorbar": {
              "outlinewidth": 0,
              "ticks": ""
             }
            },
            "type": "scattergl"
           }
          ],
          "scattermap": [
           {
            "marker": {
             "colorbar": {
              "outlinewidth": 0,
              "ticks": ""
             }
            },
            "type": "scattermap"
           }
          ],
          "scattermapbox": [
           {
            "marker": {
             "colorbar": {
              "outlinewidth": 0,
              "ticks": ""
             }
            },
            "type": "scattermapbox"
           }
          ],
          "scatterpolar": [
           {
            "marker": {
             "colorbar": {
              "outlinewidth": 0,
              "ticks": ""
             }
            },
            "type": "scatterpolar"
           }
          ],
          "scatterpolargl": [
           {
            "marker": {
             "colorbar": {
              "outlinewidth": 0,
              "ticks": ""
             }
            },
            "type": "scatterpolargl"
           }
          ],
          "scatterternary": [
           {
            "marker": {
             "colorbar": {
              "outlinewidth": 0,
              "ticks": ""
             }
            },
            "type": "scatterternary"
           }
          ],
          "surface": [
           {
            "colorbar": {
             "outlinewidth": 0,
             "ticks": ""
            },
            "colorscale": [
             [
              0,
              "#0d0887"
             ],
             [
              0.1111111111111111,
              "#46039f"
             ],
             [
              0.2222222222222222,
              "#7201a8"
             ],
             [
              0.3333333333333333,
              "#9c179e"
             ],
             [
              0.4444444444444444,
              "#bd3786"
             ],
             [
              0.5555555555555556,
              "#d8576b"
             ],
             [
              0.6666666666666666,
              "#ed7953"
             ],
             [
              0.7777777777777778,
              "#fb9f3a"
             ],
             [
              0.8888888888888888,
              "#fdca26"
             ],
             [
              1,
              "#f0f921"
             ]
            ],
            "type": "surface"
           }
          ],
          "table": [
           {
            "cells": {
             "fill": {
              "color": "#EBF0F8"
             },
             "line": {
              "color": "white"
             }
            },
            "header": {
             "fill": {
              "color": "#C8D4E3"
             },
             "line": {
              "color": "white"
             }
            },
            "type": "table"
           }
          ]
         },
         "layout": {
          "annotationdefaults": {
           "arrowcolor": "#2a3f5f",
           "arrowhead": 0,
           "arrowwidth": 1
          },
          "autotypenumbers": "strict",
          "coloraxis": {
           "colorbar": {
            "outlinewidth": 0,
            "ticks": ""
           }
          },
          "colorscale": {
           "diverging": [
            [
             0,
             "#8e0152"
            ],
            [
             0.1,
             "#c51b7d"
            ],
            [
             0.2,
             "#de77ae"
            ],
            [
             0.3,
             "#f1b6da"
            ],
            [
             0.4,
             "#fde0ef"
            ],
            [
             0.5,
             "#f7f7f7"
            ],
            [
             0.6,
             "#e6f5d0"
            ],
            [
             0.7,
             "#b8e186"
            ],
            [
             0.8,
             "#7fbc41"
            ],
            [
             0.9,
             "#4d9221"
            ],
            [
             1,
             "#276419"
            ]
           ],
           "sequential": [
            [
             0,
             "#0d0887"
            ],
            [
             0.1111111111111111,
             "#46039f"
            ],
            [
             0.2222222222222222,
             "#7201a8"
            ],
            [
             0.3333333333333333,
             "#9c179e"
            ],
            [
             0.4444444444444444,
             "#bd3786"
            ],
            [
             0.5555555555555556,
             "#d8576b"
            ],
            [
             0.6666666666666666,
             "#ed7953"
            ],
            [
             0.7777777777777778,
             "#fb9f3a"
            ],
            [
             0.8888888888888888,
             "#fdca26"
            ],
            [
             1,
             "#f0f921"
            ]
           ],
           "sequentialminus": [
            [
             0,
             "#0d0887"
            ],
            [
             0.1111111111111111,
             "#46039f"
            ],
            [
             0.2222222222222222,
             "#7201a8"
            ],
            [
             0.3333333333333333,
             "#9c179e"
            ],
            [
             0.4444444444444444,
             "#bd3786"
            ],
            [
             0.5555555555555556,
             "#d8576b"
            ],
            [
             0.6666666666666666,
             "#ed7953"
            ],
            [
             0.7777777777777778,
             "#fb9f3a"
            ],
            [
             0.8888888888888888,
             "#fdca26"
            ],
            [
             1,
             "#f0f921"
            ]
           ]
          },
          "colorway": [
           "#636efa",
           "#EF553B",
           "#00cc96",
           "#ab63fa",
           "#FFA15A",
           "#19d3f3",
           "#FF6692",
           "#B6E880",
           "#FF97FF",
           "#FECB52"
          ],
          "font": {
           "color": "#2a3f5f"
          },
          "geo": {
           "bgcolor": "white",
           "lakecolor": "white",
           "landcolor": "#E5ECF6",
           "showlakes": true,
           "showland": true,
           "subunitcolor": "white"
          },
          "hoverlabel": {
           "align": "left"
          },
          "hovermode": "closest",
          "mapbox": {
           "style": "light"
          },
          "paper_bgcolor": "white",
          "plot_bgcolor": "#E5ECF6",
          "polar": {
           "angularaxis": {
            "gridcolor": "white",
            "linecolor": "white",
            "ticks": ""
           },
           "bgcolor": "#E5ECF6",
           "radialaxis": {
            "gridcolor": "white",
            "linecolor": "white",
            "ticks": ""
           }
          },
          "scene": {
           "xaxis": {
            "backgroundcolor": "#E5ECF6",
            "gridcolor": "white",
            "gridwidth": 2,
            "linecolor": "white",
            "showbackground": true,
            "ticks": "",
            "zerolinecolor": "white"
           },
           "yaxis": {
            "backgroundcolor": "#E5ECF6",
            "gridcolor": "white",
            "gridwidth": 2,
            "linecolor": "white",
            "showbackground": true,
            "ticks": "",
            "zerolinecolor": "white"
           },
           "zaxis": {
            "backgroundcolor": "#E5ECF6",
            "gridcolor": "white",
            "gridwidth": 2,
            "linecolor": "white",
            "showbackground": true,
            "ticks": "",
            "zerolinecolor": "white"
           }
          },
          "shapedefaults": {
           "line": {
            "color": "#2a3f5f"
           }
          },
          "ternary": {
           "aaxis": {
            "gridcolor": "white",
            "linecolor": "white",
            "ticks": ""
           },
           "baxis": {
            "gridcolor": "white",
            "linecolor": "white",
            "ticks": ""
           },
           "bgcolor": "#E5ECF6",
           "caxis": {
            "gridcolor": "white",
            "linecolor": "white",
            "ticks": ""
           }
          },
          "title": {
           "x": 0.05
          },
          "xaxis": {
           "automargin": true,
           "gridcolor": "white",
           "linecolor": "white",
           "ticks": "",
           "title": {
            "standoff": 15
           },
           "zerolinecolor": "white",
           "zerolinewidth": 2
          },
          "yaxis": {
           "automargin": true,
           "gridcolor": "white",
           "linecolor": "white",
           "ticks": "",
           "title": {
            "standoff": 15
           },
           "zerolinecolor": "white",
           "zerolinewidth": 2
          }
         }
        },
        "title": {
         "text": "Compare Jaccard matrix for latest and oldest date"
        },
        "width": 1200,
        "xaxis": {
         "anchor": "y",
         "domain": [
          0,
          0.45
         ]
        },
        "xaxis2": {
         "anchor": "y2",
         "domain": [
          0.55,
          1
         ]
        },
        "yaxis": {
         "anchor": "x",
         "domain": [
          0,
          1
         ]
        },
        "yaxis2": {
         "anchor": "x2",
         "domain": [
          0,
          1
         ]
        }
       }
      }
     },
     "metadata": {},
     "output_type": "display_data"
    }
   ],
   "source": [
    "def jaccard_matrix(df_subset):\n",
    "    countries = df_subset['country'].unique()\n",
    "    sets = {c: set(df_subset[df_subset['country']==c]['spotify_id']) for c in countries}\n",
    "    matrix = pd.DataFrame(index=countries, columns=countries, dtype=float)\n",
    "    for a in countries:\n",
    "        for b in countries:\n",
    "            inter = sets[a].intersection(sets[b])\n",
    "            union = sets[a].union(sets[b])\n",
    "            matrix.loc[a,b] = len(inter)/len(union) if union else np.nan\n",
    "    return matrix\n",
    "\n",
    "# LATEST DATE\n",
    "latest_date = df['snapshot_date'].max()\n",
    "df_latest = df[df['snapshot_date'] == latest_date]\n",
    "matrix_latest = jaccard_matrix(df_latest)\n",
    "\n",
    "# OLDEST DATE\n",
    "oldest_date = df['snapshot_date'].min()\n",
    "df_oldest = df[df['snapshot_date'] == oldest_date]\n",
    "matrix_oldest = jaccard_matrix(df_oldest)\n",
    "\n",
    "vmin = min(matrix_latest.min().min(), matrix_oldest.min().min())\n",
    "vmax = max(matrix_latest.max().max(), matrix_oldest.max().max())\n",
    "\n",
    "# Create subplots in 1 view \n",
    "fig = make_subplots(rows=1, cols=2, subplot_titles=[f\"Jaccard matrix for: {latest_date}\", f\"Jaccard matrix for: {oldest_date}\"])\n",
    "\n",
    "# START create heatmap for latest date\n",
    "fig.add_trace(\n",
    "    go.Heatmap(\n",
    "        z=matrix_latest.values,\n",
    "        x=matrix_latest.columns,\n",
    "        y=matrix_latest.index,\n",
    "        colorscale='Viridis',\n",
    "        zmin=vmin,\n",
    "        zmax=vmax,\n",
    "        colorbar=dict(title=\"Jaccard\", x=0.46)  \n",
    "    ),\n",
    "    row=1, col=1\n",
    ")\n",
    "# END create heatmap for latest date\n",
    "\n",
    "# START create heatmap for oldest date\n",
    "fig.add_trace(\n",
    "    go.Heatmap(\n",
    "        z=matrix_oldest.values,\n",
    "        x=matrix_oldest.columns,\n",
    "        y=matrix_oldest.index,\n",
    "        colorscale='Viridis',\n",
    "        zmin=vmin,\n",
    "        zmax=vmax,\n",
    "        showscale=False  # without second scale\n",
    "    ),\n",
    "    row=1, col=2\n",
    ")\n",
    "# END create heatmap for oldest date\n",
    "\n",
    "fig.update_layout(\n",
    "    width=1200,\n",
    "    height=600,\n",
    "    title=\"Compare Jaccard matrix for latest and oldest date\",\n",
    ")\n",
    "\n",
    "fig.show()"
   ]
  },
  {
   "cell_type": "code",
   "execution_count": null,
   "id": "9d586224",
   "metadata": {},
   "outputs": [],
   "source": []
  }
 ],
 "metadata": {
  "kernelspec": {
   "display_name": "Python 3",
   "language": "python",
   "name": "python3"
  },
  "language_info": {
   "codemirror_mode": {
    "name": "ipython",
    "version": 3
   },
   "file_extension": ".py",
   "mimetype": "text/x-python",
   "name": "python",
   "nbconvert_exporter": "python",
   "pygments_lexer": "ipython3",
   "version": "3.13.5"
  }
 },
 "nbformat": 4,
 "nbformat_minor": 5
}
