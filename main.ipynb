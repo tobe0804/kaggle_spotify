{
 "cells": [
  {
   "cell_type": "code",
   "execution_count": 1,
   "id": "4997c964",
   "metadata": {},
   "outputs": [],
   "source": [
    "import kagglehub\n",
    "import os\n",
    "import pandas as pd\n",
    "import numpy as np"
   ]
  },
  {
   "cell_type": "code",
   "execution_count": 3,
   "id": "96e3f976",
   "metadata": {},
   "outputs": [
    {
     "name": "stdout",
     "output_type": "stream",
     "text": [
      "        spotify_track_uri                   ts    platform  ms_played  \\\n",
      "0  2J3n32GeLmMjwuAzyhcSNe  2013-07-08 02:44:34  web player       3185   \n",
      "1  1oHxIPqJyvAYHy0PVrDU98  2013-07-08 02:45:37  web player      61865   \n",
      "2  487OPlneJNni3NWC8SYqhW  2013-07-08 02:50:24  web player     285386   \n",
      "3  5IyblF777jLZj1vGHG2UD3  2013-07-08 02:52:40  web player     134022   \n",
      "4  0GgAAB0ZMllFhbNc3mAodO  2013-07-08 03:17:52  web player          0   \n",
      "\n",
      "                                      track_name        artist_name  \\\n",
      "0                            Say It, Just Say It       The Mowgli's   \n",
      "1  Drinking from the Bottle (feat. Tinie Tempah)      Calvin Harris   \n",
      "2                                    Born To Die       Lana Del Rey   \n",
      "3                               Off To The Races       Lana Del Rey   \n",
      "4                                      Half Mast  Empire Of The Sun   \n",
      "\n",
      "                           album_name reason_start reason_end  shuffle  \\\n",
      "0                Waiting For The Dawn     autoplay   clickrow    False   \n",
      "1                           18 Months     clickrow   clickrow    False   \n",
      "2  Born To Die - The Paradise Edition     clickrow    unknown    False   \n",
      "3  Born To Die - The Paradise Edition    trackdone   clickrow    False   \n",
      "4                  Walking On A Dream     clickrow    nextbtn    False   \n",
      "\n",
      "   skipped  \n",
      "0    False  \n",
      "1    False  \n",
      "2    False  \n",
      "3    False  \n",
      "4    False  \n"
     ]
    }
   ],
   "source": [
    "path = kagglehub.dataset_download(\"anandshaw2001/top-spotify-songs-in-countries\") # download dataset and save temporary folder on local PC\n",
    "\n",
    "# print(os.listdir(path)) # list all files from path\n",
    "if \"spotify_history.csv\" in os.listdir(path):\n",
    "    df = pd.read_csv(f'{path}\\\\spotify_history.csv')\n",
    "    df = df.fillna('')\n",
    "else:\n",
    "    print(f\"spotify_history.csv not found in {path}. I found {os.listdir(path)}\")\n",
    "\n",
    "print(df.head()) # preview the first few rows\n"
   ]
  },
  {
   "cell_type": "code",
   "execution_count": 4,
   "id": "bdbd9cce",
   "metadata": {},
   "outputs": [
    {
     "name": "stdout",
     "output_type": "stream",
     "text": [
      "Name: spotify_track_uri, type: <class 'str'>\n",
      "Name: ts, type: <class 'str'>\n",
      "Name: platform, type: <class 'str'>\n",
      "Name: ms_played, type: <class 'str'>\n",
      "Name: track_name, type: <class 'str'>\n",
      "Name: artist_name, type: <class 'str'>\n",
      "Name: album_name, type: <class 'str'>\n",
      "Name: reason_start, type: <class 'str'>\n",
      "Name: reason_end, type: <class 'str'>\n",
      "Name: shuffle, type: <class 'str'>\n",
      "Name: skipped, type: <class 'str'>\n"
     ]
    }
   ],
   "source": [
    "headers = list(df.columns.values) # list of headers\n",
    "\n",
    "# START check type of specific column\n",
    "for head in headers:\n",
    "    print(f'Name: {head}, type: {type(head)}')\n",
    "# END check type of specific column"
   ]
  },
  {
   "cell_type": "code",
   "execution_count": 14,
   "id": "03ec67cb",
   "metadata": {},
   "outputs": [],
   "source": [
    "\"\"\"Check for missing values and start DATA CLEANING and FEATURE ENGINEERING\"\"\"\n",
    "df.isnull().sum() # check how many rows are empty\n",
    "\n",
    "#START convert ts to datetime\n",
    "df['ts'] = pd.to_datetime(df['ts'])\n",
    "df['hour'] = df['ts'].dt.hour\n",
    "df['day'] = df['ts'].dt.date\n",
    "df['weekday'] = df['ts'].dt.day_name()\n",
    "#END convert ts to datetime\n",
    "\n",
    "# START convert shuffle and skipped column to boolean\n",
    "df['shuffle'] = df['shuffle'].astype(bool)\n",
    "df['skipped'] = df['skipped'].astype(bool)\n",
    "# END convert shuffle and skipped column to boolean\n",
    "\n",
    "# # START ms_played to mm:ss (optional)\n",
    "# def convert_ms(ms):\n",
    "#     minutes = ms // 60000\n",
    "#     seconds = (ms % 60000) // 1000\n",
    "#     milliseconds = (ms % 1000) // 10\n",
    "#     return f\"{minutes:02d}:{seconds:02d}:{milliseconds:02d}\"\n",
    "\n",
    "# df['mm_ss_ms'] = df['ms_played'].apply(convert_ms)\n",
    "# print(df[['ms_played', 'mm_ss_ms']])\n",
    "# # END ms_played to mm:ss (optional)\n",
    "\n",
    "\n"
   ]
  },
  {
   "cell_type": "code",
   "execution_count": null,
   "id": "81b855b9",
   "metadata": {},
   "outputs": [],
   "source": []
  }
 ],
 "metadata": {
  "kernelspec": {
   "display_name": "Python 3",
   "language": "python",
   "name": "python3"
  },
  "language_info": {
   "codemirror_mode": {
    "name": "ipython",
    "version": 3
   },
   "file_extension": ".py",
   "mimetype": "text/x-python",
   "name": "python",
   "nbconvert_exporter": "python",
   "pygments_lexer": "ipython3",
   "version": "3.13.5"
  }
 },
 "nbformat": 4,
 "nbformat_minor": 5
}
