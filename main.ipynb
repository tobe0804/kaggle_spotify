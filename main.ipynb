{
 "cells": [
  {
   "cell_type": "code",
   "execution_count": 39,
   "id": "4997c964",
   "metadata": {},
   "outputs": [],
   "source": [
    "import kagglehub\n",
    "import os\n",
    "import pandas as pd\n",
    "import numpy as np\n",
    "import pycountry"
   ]
  },
  {
   "cell_type": "code",
   "execution_count": null,
   "id": "96e3f976",
   "metadata": {},
   "outputs": [
    {
     "name": "stdout",
     "output_type": "stream",
     "text": [
      "               spotify_id                name                artists  \\\n",
      "0  2RkZ5LkEzeHGRsmDqKwmaJ            Ordinary            Alex Warren   \n",
      "1  42UBPzRMh5yyz0EDPr6fr1            Manchild      Sabrina Carpenter   \n",
      "2  0FTmksd2dxiE5e3rWyJXs6     back to friends                  sombr   \n",
      "3  7so0lgd0zP2Sbgs2d7a1SZ    Die With A Smile  Lady Gaga, Bruno Mars   \n",
      "4  6dOtVTDdiauQNBQEDOtlAB  BIRDS OF A FEATHER          Billie Eilish   \n",
      "\n",
      "   daily_rank  daily_movement  weekly_movement country snapshot_date  \\\n",
      "0           1               1                0            2025-06-11   \n",
      "1           2              -1               48            2025-06-11   \n",
      "2           3               0                1            2025-06-11   \n",
      "3           4               0               -1            2025-06-11   \n",
      "4           5               1                0            2025-06-11   \n",
      "\n",
      "   popularity  is_explicit  ...  key loudness mode  speechiness  acousticness  \\\n",
      "0          95        False  ...    2   -6.141    1       0.0600      0.704000   \n",
      "1          89         True  ...    7   -5.087    1       0.0572      0.122000   \n",
      "2          98        False  ...    1   -2.291    1       0.0301      0.000094   \n",
      "3          91        False  ...    6   -7.727    0       0.0317      0.289000   \n",
      "4         100        False  ...    2  -10.171    1       0.0358      0.200000   \n",
      "\n",
      "   instrumentalness  liveness  valence    tempo  time_signature  \n",
      "0          0.000007    0.0550    0.391  168.115               3  \n",
      "1          0.000000    0.3170    0.811  123.010               4  \n",
      "2          0.000088    0.0929    0.235   92.855               4  \n",
      "3          0.000000    0.1260    0.498  157.964               3  \n",
      "4          0.060800    0.1170    0.438  104.978               4  \n",
      "\n",
      "[5 rows x 25 columns]\n"
     ]
    }
   ],
   "source": [
    "path = kagglehub.dataset_download(\"asaniczka/top-spotify-songs-in-73-countries-daily-updated\") # download dataset and save temporary folder on local PC\n",
    "print(path)\n",
    "print(os.listdir(path)) # list all files from path\n",
    "if \"universal_top_spotify_songs.csv\" in os.listdir(path):\n",
    "    df = pd.read_csv(f'{path}\\\\universal_top_spotify_songs.csv')\n",
    "    df = df.fillna('')\n",
    "else:\n",
    "    print(f\"universal_top_spotify_songs.csv not found in {path}. I found {os.listdir(path)}\")\n",
    "\n",
    "print(df.head()) # preview the first few rows   \n"
   ]
  },
  {
   "cell_type": "code",
   "execution_count": 61,
   "id": "bdbd9cce",
   "metadata": {},
   "outputs": [
    {
     "name": "stdout",
     "output_type": "stream",
     "text": [
      "Name: spotify_id, type: <class 'str'>\n",
      "Name: name, type: <class 'str'>\n",
      "Name: artists, type: <class 'str'>\n",
      "Name: daily_rank, type: <class 'str'>\n",
      "Name: daily_movement, type: <class 'str'>\n",
      "Name: weekly_movement, type: <class 'str'>\n",
      "Name: country, type: <class 'str'>\n",
      "Name: snapshot_date, type: <class 'str'>\n",
      "Name: popularity, type: <class 'str'>\n",
      "Name: is_explicit, type: <class 'str'>\n",
      "Name: duration_ms, type: <class 'str'>\n",
      "Name: album_name, type: <class 'str'>\n",
      "Name: album_release_date, type: <class 'str'>\n",
      "Name: danceability, type: <class 'str'>\n",
      "Name: energy, type: <class 'str'>\n",
      "Name: key, type: <class 'str'>\n",
      "Name: loudness, type: <class 'str'>\n",
      "Name: mode, type: <class 'str'>\n",
      "Name: speechiness, type: <class 'str'>\n",
      "Name: acousticness, type: <class 'str'>\n",
      "Name: instrumentalness, type: <class 'str'>\n",
      "Name: liveness, type: <class 'str'>\n",
      "Name: valence, type: <class 'str'>\n",
      "Name: tempo, type: <class 'str'>\n",
      "Name: time_signature, type: <class 'str'>\n"
     ]
    }
   ],
   "source": [
    "headers = list(df.columns.values) # list of headers\n",
    "\n",
    "# START check type of specific column\n",
    "for head in headers:\n",
    "    print(f'Name: {head}, type: {type(head)}')\n",
    "# END check type of specific column"
   ]
  },
  {
   "cell_type": "code",
   "execution_count": 62,
   "id": "9de1dc5d",
   "metadata": {},
   "outputs": [
    {
     "name": "stdout",
     "output_type": "stream",
     "text": [
      "spotify_id             object\n",
      "name                   object\n",
      "artists                object\n",
      "daily_rank              int64\n",
      "daily_movement          int64\n",
      "weekly_movement         int64\n",
      "country                object\n",
      "snapshot_date          object\n",
      "popularity              int64\n",
      "is_explicit              bool\n",
      "duration_ms             int64\n",
      "album_name             object\n",
      "album_release_date     object\n",
      "danceability          float64\n",
      "energy                float64\n",
      "key                     int64\n",
      "loudness              float64\n",
      "mode                    int64\n",
      "speechiness           float64\n",
      "acousticness          float64\n",
      "instrumentalness      float64\n",
      "liveness              float64\n",
      "valence               float64\n",
      "tempo                 float64\n",
      "time_signature          int64\n",
      "dtype: object\n"
     ]
    }
   ],
   "source": [
    "#START check values type\n",
    "print(df.dtypes)\n",
    "#END check values type\n"
   ]
  },
  {
   "cell_type": "code",
   "execution_count": 13,
   "id": "03ec67cb",
   "metadata": {},
   "outputs": [
    {
     "data": {
      "text/plain": [
       "spotify_id            0\n",
       "name                  0\n",
       "artists               0\n",
       "daily_rank            0\n",
       "daily_movement        0\n",
       "weekly_movement       0\n",
       "country               0\n",
       "snapshot_date         0\n",
       "popularity            0\n",
       "is_explicit           0\n",
       "duration_ms           0\n",
       "album_name            0\n",
       "album_release_date    0\n",
       "danceability          0\n",
       "energy                0\n",
       "key                   0\n",
       "loudness              0\n",
       "mode                  0\n",
       "speechiness           0\n",
       "acousticness          0\n",
       "instrumentalness      0\n",
       "liveness              0\n",
       "valence               0\n",
       "tempo                 0\n",
       "time_signature        0\n",
       "dtype: int64"
      ]
     },
     "execution_count": 13,
     "metadata": {},
     "output_type": "execute_result"
    }
   ],
   "source": [
    "df.isnull().sum() # sum null values from columns"
   ]
  },
  {
   "cell_type": "code",
   "execution_count": 15,
   "id": "81b855b9",
   "metadata": {},
   "outputs": [
    {
     "name": "stdout",
     "output_type": "stream",
     "text": [
      "0\n"
     ]
    }
   ],
   "source": [
    "duplicated_rows = df.duplicated().sum() # check duplicated rows\n",
    "print(duplicated_rows)"
   ]
  },
  {
   "cell_type": "code",
   "execution_count": 76,
   "id": "0dfb70bd",
   "metadata": {},
   "outputs": [
    {
     "name": "stdout",
     "output_type": "stream",
     "text": [
      "[['2024-09-26']\n",
      " ['2025-06-05']\n",
      " ['2024-12-27']\n",
      " ...\n",
      " ['2023-10-13']\n",
      " ['2023-09-20']\n",
      " ['2019-08-23']]\n"
     ]
    }
   ],
   "source": [
    "\"\"\" Empty country's ISO code is GLOBAL TOP 50 \"\"\"\n",
    "\n",
    "mask = df['country'].isna() | (df['country'] == \"\")\n",
    "\n",
    "if not df[mask].empty:\n",
    "    #print(df.loc[mask, ['daily_rank', 'name', 'artists', 'album_release_date']])\n",
    "    dates = df.loc[mask, ['album_release_date']]\n",
    "    print(dates.values)"
   ]
  },
  {
   "cell_type": "code",
   "execution_count": 86,
   "id": "f37e0e0b",
   "metadata": {},
   "outputs": [],
   "source": [
    "\"\"\" convert iso code to country name \"\"\"\n",
    "\n",
    "def iso_to_name(iso):\n",
    "    try:\n",
    "        country = pycountry.countries.get(alpha_2=iso)\n",
    "        return country.name if country else None\n",
    "    except KeyError:\n",
    "        return None"
   ]
  },
  {
   "cell_type": "code",
   "execution_count": 98,
   "id": "f1bccf28",
   "metadata": {},
   "outputs": [
    {
     "name": "stdout",
     "output_type": "stream",
     "text": [
      "['Argentina' 'Australia' 'Austria' 'Belarus' 'Belgium'\n",
      " 'Bolivia, Plurinational State of' 'Brazil' 'Bulgaria' 'Canada' 'Chile'\n",
      " 'Colombia' 'Costa Rica' 'Czechia' 'Denmark' 'Dominican Republic'\n",
      " 'Ecuador' 'Egypt' 'El Salvador' 'Estonia' 'Finland' 'France' 'Germany'\n",
      " 'Greece' 'Guatemala' 'Honduras' 'Hong Kong' 'Hungary' 'Iceland' 'India'\n",
      " 'Indonesia' 'Ireland' 'Israel' 'Italy' 'Japan' 'Kazakhstan'\n",
      " 'Korea, Republic of' 'Latvia' 'Lithuania' 'Luxembourg' 'Malaysia'\n",
      " 'Mexico' 'Morocco' 'Netherlands' 'New Zealand' 'Nicaragua' 'Nigeria'\n",
      " 'Norway' 'Pakistan' 'Panama' 'Paraguay' 'Peru' 'Philippines' 'Poland'\n",
      " 'Portugal' 'Romania' 'Saudi Arabia' 'Singapore' 'Slovakia' 'South Africa'\n",
      " 'Spain' 'Sweden' 'Switzerland' 'Taiwan, Province of China' 'Thailand'\n",
      " 'Türkiye' 'Ukraine' 'United Arab Emirates' 'United Kingdom'\n",
      " 'United States' 'Uruguay' 'Venezuela, Bolivarian Republic of' 'Viet Nam']\n"
     ]
    }
   ],
   "source": [
    "reverted_mask = df[~(df['country'].isna() | (df['country'] == \"\"))].copy() # copy to avoid SettingWithCopyWarning\n",
    "\n",
    "reverted_mask['country_name'] = reverted_mask['country'].apply(iso_to_name) #convert iso to country name\n",
    "\n",
    "#print(reverted_mask[['country', 'country_name', 'name', 'artists']])\n",
    "print(np.unique(reverted_mask['country_name']))"
   ]
  },
  {
   "cell_type": "code",
   "execution_count": null,
   "id": "1a794ac5",
   "metadata": {},
   "outputs": [],
   "source": []
  }
 ],
 "metadata": {
  "kernelspec": {
   "display_name": "Python 3",
   "language": "python",
   "name": "python3"
  },
  "language_info": {
   "codemirror_mode": {
    "name": "ipython",
    "version": 3
   },
   "file_extension": ".py",
   "mimetype": "text/x-python",
   "name": "python",
   "nbconvert_exporter": "python",
   "pygments_lexer": "ipython3",
   "version": "3.13.5"
  }
 },
 "nbformat": 4,
 "nbformat_minor": 5
}
